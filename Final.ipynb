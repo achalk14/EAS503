{
 "cells": [
  {
   "cell_type": "code",
   "execution_count": 1,
   "id": "9893d3ed",
   "metadata": {
    "extensions": {
     "jupyter_dashboards": {
      "version": 1,
      "views": {
       "grid_default": {},
       "report_default": {}
      }
     }
    }
   },
   "outputs": [],
   "source": [
    "from IPython.display import display, HTML\n",
    "import pandas as pd\n",
    "import sqlite3\n",
    "from sqlite3 import Error\n",
    "import time\n",
    "from IPython.display import display, HTML\n",
    "import pandas as pd\n",
    "pd.options.mode.chained_assignment = None \n",
    "import sqlite3\n",
    "from sqlite3 import Error\n",
    "import time\n",
    "import warnings\n",
    "warnings.simplefilter(action='ignore', category=FutureWarning)\n",
    "\n",
    "import matplotlib.pyplot as plt\n",
    "import numpy as np\n",
    "import seaborn as sns\n",
    "import pandas as pd\n",
    "from folium import Map\n",
    "from folium.plugins import HeatMap\n",
    "\n",
    "\n",
    "def create_connection(db_file, delete_db=False):\n",
    "    import os\n",
    "    if delete_db and os.path.exists(db_file):\n",
    "        os.remove(db_file)\n",
    "\n",
    "    conn = None\n",
    "    try:\n",
    "        conn = sqlite3.connect(db_file)\n",
    "        conn.execute(\"PRAGMA foreign_keys = 1\")\n",
    "    except Error as e:\n",
    "        print(e)\n",
    "\n",
    "    return conn\n",
    "\n",
    "\n",
    "def create_table(conn, create_table_sql, drop_table_name=None):\n",
    "    \n",
    "    if drop_table_name: # You can optionally pass drop_table_name to drop the table. \n",
    "        try:\n",
    "            c = conn.cursor()\n",
    "            c.execute(\"\"\"DROP TABLE IF EXISTS %s\"\"\" % (drop_table_name))\n",
    "        except Error as e:\n",
    "            print(e)\n",
    "    \n",
    "    try:\n",
    "        c = conn.cursor()\n",
    "        c.execute(create_table_sql)\n",
    "    except Error as e:\n",
    "        print(e)\n",
    "        \n",
    "def execute_sql_statement(sql_statement, conn):\n",
    "    cur = conn.cursor()\n",
    "    cur.execute(sql_statement)\n",
    "\n",
    "    rows = cur.fetchall()\n",
    "\n",
    "    return rows"
   ]
  },
  {
   "cell_type": "code",
   "execution_count": 2,
   "id": "ea0885ee",
   "metadata": {
    "extensions": {
     "jupyter_dashboards": {
      "version": 1,
      "views": {
       "grid_default": {},
       "report_default": {}
      }
     }
    }
   },
   "outputs": [],
   "source": [
    "#!pip install pandas folium"
   ]
  },
  {
   "cell_type": "code",
   "execution_count": 3,
   "id": "872e1588",
   "metadata": {
    "extensions": {
     "jupyter_dashboards": {
      "version": 1,
      "views": {
       "grid_default": {},
       "report_default": {}
      }
     }
    }
   },
   "outputs": [],
   "source": [
    "# Create DB file\n",
    "\n",
    "normalized_db = 'lightning_fire_normalized.db'\n",
    "conn = create_connection(normalized_db, delete_db=True)"
   ]
  },
  {
   "cell_type": "code",
   "execution_count": 4,
   "id": "8b6a7fb0",
   "metadata": {
    "extensions": {
     "jupyter_dashboards": {
      "version": 1,
      "views": {
       "grid_default": {},
       "report_default": {}
      }
     }
    }
   },
   "outputs": [],
   "source": [
    "df = pd.read_csv(\"US_Lightning_Forest_Fires.csv\")\n",
    "#df.head()"
   ]
  },
  {
   "cell_type": "code",
   "execution_count": 5,
   "id": "399ce56f",
   "metadata": {
    "extensions": {
     "jupyter_dashboards": {
      "version": 1,
      "views": {
       "grid_default": {},
       "report_default": {}
      }
     }
    }
   },
   "outputs": [],
   "source": [
    "df = df.drop(['index', 'STAT_CAUSE_DESCR', 'FIPS_CODE', 'FIPS_NAME'], axis=1)\n",
    "df1 = df.iloc[: , 1:]\n",
    "df1 = df1.dropna()\n",
    "#df1.head()"
   ]
  },
  {
   "cell_type": "code",
   "execution_count": 6,
   "id": "143fcbbd",
   "metadata": {
    "extensions": {
     "jupyter_dashboards": {
      "version": 1,
      "views": {
       "grid_default": {},
       "report_default": {}
      }
     }
    }
   },
   "outputs": [],
   "source": [
    "#print(df1.shape)"
   ]
  },
  {
   "cell_type": "code",
   "execution_count": 7,
   "id": "dca2b27b",
   "metadata": {
    "extensions": {
     "jupyter_dashboards": {
      "version": 1,
      "views": {
       "grid_default": {},
       "report_default": {}
      }
     }
    }
   },
   "outputs": [],
   "source": [
    "df1.to_csv(path_or_buf=\"cleaned_data_lightning.csv\")"
   ]
  },
  {
   "cell_type": "code",
   "execution_count": 8,
   "id": "2eb2cd25",
   "metadata": {
    "extensions": {
     "jupyter_dashboards": {
      "version": 1,
      "views": {
       "grid_default": {},
       "report_default": {}
      }
     }
    }
   },
   "outputs": [],
   "source": [
    "header = []\n",
    "for h in df1:\n",
    "    header.append(h)\n",
    "    \n",
    "#print(columns)"
   ]
  },
  {
   "cell_type": "code",
   "execution_count": 9,
   "id": "cc1df5c0",
   "metadata": {
    "extensions": {
     "jupyter_dashboards": {
      "version": 1,
      "views": {
       "grid_default": {},
       "report_default": {}
      }
     }
    }
   },
   "outputs": [],
   "source": [
    "# Create FireDate Table\n",
    "\n",
    "create_firedate_sql = \"\"\"CREATE TABLE IF NOT EXISTS[FireDate](\n",
    "                        [FireDateID] INTEGER NOT NULL PRIMARY KEY,\n",
    "                        [FireDate] TEXT NOT NULL,\n",
    "                        [FireMonth] INTEGER NOT NULL,\n",
    "                        [FireYear] INTEGER NOT NULL)\"\"\"\n",
    "create_table(conn, create_firedate_sql)\n",
    "fire_date = []\n",
    "\n",
    "for val in df1['Fire_Date']:\n",
    "    date = val.split(\"-\")\n",
    "    if (val, int(date[0]), int(date[2])) not in fire_date:\n",
    "        fire_date.append((val, int(date[0]), int(date[2]))) \n",
    "\n",
    "fire_date.sort(key=lambda x: time.mktime(time.strptime(x[0],\"%m-%d-%Y\")))\n",
    "\n",
    "fire_date_insert_vals = [(i+1, fire_date[i][0], fire_date[i][1], fire_date[i][2]) for i in range(len(fire_date))]\n",
    "#print(fire_date_insert_vals)\n",
    "\n",
    "def insert_firedate(conn, values):\n",
    "    sql = '''INSERT OR IGNORE INTO FireDate(FireDateID, FireDate, FireMonth, FireYear)\n",
    "        VALUES(?, ?, ?, ?)'''\n",
    "    cur = conn.cursor()\n",
    "    cur.executemany(sql, values)\n",
    "    conn.commit()\n",
    "    return cur.lastrowid\n",
    "\n",
    "insert_firedate(conn, fire_date_insert_vals)"
   ]
  },
  {
   "cell_type": "code",
   "execution_count": 10,
   "id": "cd942e95",
   "metadata": {
    "extensions": {
     "jupyter_dashboards": {
      "version": 1,
      "views": {
       "grid_default": {},
       "report_default": {}
      }
     }
    }
   },
   "outputs": [],
   "source": [
    "date = pd.read_sql_query(\"\"\"SELECT * FROM FireDate\"\"\", conn)\n",
    "date = pd.read_sql_query(\"\"\"SELECT * FROM FireDate\"\"\", conn)\n",
    "#date"
   ]
  },
  {
   "cell_type": "code",
   "execution_count": 11,
   "id": "04f2a222",
   "metadata": {
    "extensions": {
     "jupyter_dashboards": {
      "version": 1,
      "views": {
       "grid_default": {},
       "report_default": {}
      }
     }
    }
   },
   "outputs": [],
   "source": [
    "# Create fire_date dict\n",
    "\n",
    "fire_date = {fire_date_insert_vals[i][1]: fire_date_insert_vals[i][0] for i in range(len(fire_date_insert_vals))}"
   ]
  },
  {
   "cell_type": "code",
   "execution_count": 12,
   "id": "e86fab79",
   "metadata": {
    "extensions": {
     "jupyter_dashboards": {
      "version": 1,
      "views": {
       "grid_default": {},
       "report_default": {}
      }
     }
    }
   },
   "outputs": [],
   "source": [
    "#print(fire_date)"
   ]
  },
  {
   "cell_type": "code",
   "execution_count": 13,
   "id": "c6912daf",
   "metadata": {
    "extensions": {
     "jupyter_dashboards": {
      "version": 1,
      "views": {
       "grid_default": {},
       "report_default": {}
      }
     }
    }
   },
   "outputs": [],
   "source": [
    "state_name_map = {\n",
    "  \"AL\": \"Alabama\",\n",
    "  \"AK\": \"Alaska\",\n",
    "  \"AZ\": \"Arizona\",\n",
    "  \"AR\": \"Arkansas\",\n",
    "  \"CA\": \"California\",\n",
    "  \"CO\": \"Colorado\",\n",
    "  \"CT\": \"Connecticut\",\n",
    "  \"DE\": \"Delaware\",\n",
    "  \"DC\": \"District Of Columbia\",\n",
    "  \"FL\": \"Florida\",\n",
    "  \"GA\": \"Georgia\",\n",
    "  \"HI\": \"Hawaii\",\n",
    "  \"ID\": \"Idaho\",\n",
    "  \"IL\": \"Illinois\",\n",
    "  \"IN\": \"Indiana\",\n",
    "  \"IA\": \"Iowa\",\n",
    "  \"KS\": \"Kansas\",\n",
    "  \"KY\": \"Kentucky\",\n",
    "  \"LA\": \"Louisiana\",\n",
    "  \"ME\": \"Maine\",\n",
    "  \"MD\": \"Maryland\",\n",
    "  \"MA\": \"Massachusetts\",\n",
    "  \"MI\": \"Michigan\",\n",
    "  \"MN\": \"Minnesota\",\n",
    "  \"MS\": \"Mississippi\",\n",
    "  \"MO\": \"Missouri\",\n",
    "  \"MT\": \"Montana\",\n",
    "  \"NE\": \"Nebraska\",\n",
    "  \"NV\": \"Nevada\",\n",
    "  \"NH\": \"New Hampshire\",\n",
    "  \"NJ\": \"New Jersey\",\n",
    "  \"NM\": \"New Mexico\",\n",
    "  \"NY\": \"New York\",\n",
    "  \"NC\": \"North Carolina\",\n",
    "  \"ND\": \"North Dakota\",\n",
    "  \"OH\": \"Ohio\",\n",
    "  \"OK\": \"Oklahoma\",\n",
    "  \"OR\": \"Oregon\",\n",
    "  \"PA\": \"Pennsylvania\",\n",
    "  \"RI\": \"Rhode Island\",\n",
    "  \"SC\": \"South Carolina\",\n",
    "  \"SD\": \"South Dakota\",\n",
    "  \"TN\": \"Tennessee\",\n",
    "  \"TX\": \"Texas\",\n",
    "  \"UT\": \"Utah\",\n",
    "  \"VT\": \"Vermont\",\n",
    "  \"VA\": \"Virginia\",\n",
    "  \"WA\": \"Washington\",\n",
    "  \"WV\": \"West Virginia\",\n",
    "  \"WI\": \"Wisconsin\",\n",
    "  \"WY\": \"Wyoming\"\n",
    "}\n",
    "\n",
    "def get_state_name(state_id):\n",
    "    try:\n",
    "        if state_id != 'PR':\n",
    "            return state_name_map[state_id]\n",
    "        elif state_id == 'PR':\n",
    "            return 'Other States'\n",
    "        else:\n",
    "            pass\n",
    "    except:\n",
    "        pass"
   ]
  },
  {
   "cell_type": "code",
   "execution_count": 14,
   "id": "13feec90",
   "metadata": {
    "extensions": {
     "jupyter_dashboards": {
      "version": 1,
      "views": {
       "grid_default": {},
       "report_default": {}
      }
     }
    }
   },
   "outputs": [],
   "source": [
    "# Create FireState Table\n",
    "\n",
    "create_firestate_sql = \"\"\"CREATE TABLE IF NOT EXISTS[FireState](\n",
    "                        [StateID] INTEGER NOT NULL PRIMARY KEY,\n",
    "                        [State] TEXT NOT NULL)\"\"\"\n",
    "create_table(conn, create_firestate_sql)\n",
    "\n",
    "fire_state = []\n",
    "for val in df1['STATE']:\n",
    "    if val not in fire_state:\n",
    "        fire_state.append(val)\n",
    "\n",
    "fire_state.sort()\n",
    "#print(fire_state)\n",
    "\n",
    "fire_state_insert_vals = [(i+1, fire_state[i]) for i in range(len(fire_state))]\n",
    "\n",
    "def insert_firestate(conn, values):\n",
    "    sql = '''INSERT OR IGNORE INTO FireState(StateID, State)\n",
    "        VALUES(?, ?)'''\n",
    "    cur = conn.cursor()\n",
    "    cur.executemany(sql, values)\n",
    "    conn.commit()\n",
    "    return cur.lastrowid\n",
    "\n",
    "insert_firestate(conn, fire_state_insert_vals)\n",
    "\n",
    "#print(fire_state_insert_vals)"
   ]
  },
  {
   "cell_type": "code",
   "execution_count": 15,
   "id": "b0808344",
   "metadata": {
    "extensions": {
     "jupyter_dashboards": {
      "version": 1,
      "views": {
       "grid_default": {},
       "report_default": {}
      }
     }
    },
    "scrolled": true
   },
   "outputs": [],
   "source": [
    "state = pd.read_sql_query(\"\"\"SELECT * FROM FireState\"\"\", conn)\n",
    "#state"
   ]
  },
  {
   "cell_type": "code",
   "execution_count": 16,
   "id": "5c5cb644",
   "metadata": {
    "extensions": {
     "jupyter_dashboards": {
      "version": 1,
      "views": {
       "grid_default": {},
       "report_default": {}
      }
     }
    }
   },
   "outputs": [],
   "source": [
    "# Create fire_state dict\n",
    "\n",
    "fire_state = {fire_state_insert_vals[i][1]: fire_state_insert_vals[i][0] for i in range(len(fire_state_insert_vals))}\n",
    "#fire_state"
   ]
  },
  {
   "cell_type": "code",
   "execution_count": 17,
   "id": "85e52338",
   "metadata": {
    "extensions": {
     "jupyter_dashboards": {
      "version": 1,
      "views": {
       "grid_default": {},
       "report_default": {}
      }
     }
    },
    "scrolled": false
   },
   "outputs": [],
   "source": [
    "# Create FireDetails Table\n",
    "create_details_sql = \"\"\"CREATE TABLE IF NOT EXISTS[FireDetails](\n",
    "                        [FireDetailsID] INTEGER NOT NULL PRIMARY KEY,\n",
    "                        [FireDateID] INTEGER NOT NULL,\n",
    "                        [DiscoveryTime] INTEGER NOT NULL,\n",
    "                        [DaysToExt] INTEGER NOT NULL,\n",
    "                        [ContTime] INTEGER NOT NULL,\n",
    "                        [FireSize] REAL NOT NULL,\n",
    "                        [FireClass] TEXT NOT NULL,\n",
    "                        [Lattitude] TEXT NOT NULL,\n",
    "                        [Longitude] TEXT NOT NULL,\n",
    "                        [StateID] INTEGER NOT NULL,\n",
    "                        FOREIGN KEY(FireDateID) REFERENCES FireDate(FireDateID),\n",
    "                        FOREIGN KEY(StateID) REFERENCES FireState(StateID))\"\"\"\n",
    "\n",
    "\n",
    "create_table(conn, create_details_sql)\n",
    "\n",
    "fire_details = []\n",
    "with open(\"cleaned_data_lightning.csv\", 'r') as db_file:\n",
    "    for index, line in enumerate(db_file):\n",
    "        if not line.strip() or index == 0:\n",
    "            continue\n",
    "\n",
    "        columns = line.split(',')\n",
    "        days_to_ext = int(columns[4].split('.')[0])\n",
    "        cont_time = int(columns[5].split('.')[0])\n",
    "        fire_size = float(columns[6])\n",
    "        fire_details.append((index, fire_date[columns[2]], int(columns[3].split('.')[0]), \n",
    "                             days_to_ext, cont_time, fire_size, columns[7], columns[8], columns[9],\n",
    "                             fire_state[columns[10].rstrip()] ))\n",
    "\n",
    "        \n",
    "#fire_details = sorted(fire_details, key=lambda a : a[0] + ' ' + a[1])\n",
    "fire_state_vals = []\n",
    "for i in fire_details:\n",
    "    fire_state_vals.append(i[9])\n",
    "    \n",
    "\n",
    "def unique(list1):\n",
    " \n",
    "    # initialize a null list\n",
    "    unique_list = []\n",
    "     \n",
    "    # traverse for all elements\n",
    "    for x in list1:\n",
    "        # check if exists in unique_list or not\n",
    "        if x not in unique_list:\n",
    "            unique_list.append(x)\n",
    "    # print list\n",
    "    for x in unique_list:\n",
    "        print(x)\n",
    "        \n",
    "    return unique_list\n",
    "\n",
    "#fire_uni = unique(fire_state_vals)\n",
    "\n",
    "def insert_firedet(conn, values):\n",
    "    sql = ''' INSERT OR IGNORE INTO FireDetails(FireDetailsID, FireDateID, DiscoveryTime, DaysToExt,\n",
    "            ContTime, FireSize, FireClass, Lattitude, Longitude, StateID)\n",
    "              VALUES(?, ?, ?, ?, ?, ?, ?, ?, ?, ?) '''\n",
    "    cur = conn.cursor()\n",
    "    cur.executemany(sql, values)\n",
    "    conn.commit()\n",
    "    return cur.lastrowid\n",
    "\n",
    "insert_firedet(conn, fire_details)"
   ]
  },
  {
   "cell_type": "code",
   "execution_count": 18,
   "id": "981a9894",
   "metadata": {
    "extensions": {
     "jupyter_dashboards": {
      "version": 1,
      "views": {
       "grid_default": {},
       "report_default": {}
      }
     }
    }
   },
   "outputs": [],
   "source": [
    "fire_details = pd.read_sql_query(\"\"\"SELECT * FROM firedetails\"\"\", conn)\n",
    "#fire_details"
   ]
  },
  {
   "cell_type": "code",
   "execution_count": 19,
   "id": "81610564",
   "metadata": {
    "extensions": {
     "jupyter_dashboards": {
      "version": 1,
      "views": {
       "grid_default": {},
       "report_default": {}
      }
     }
    }
   },
   "outputs": [],
   "source": [
    "normalized_database_filename = 'lightning_fire_normalized.db'\n",
    "conn = create_connection(normalized_database_filename)\n",
    "cur = conn.cursor()\n",
    "cur.execute(\"\"\"select count(FireDateID) AS fire_count\n",
    "                   from FireDate\"\"\")\n",
    "rows = cur.fetchall()\n",
    "fire_count = rows[0][0]\n",
    "#fire_count"
   ]
  },
  {
   "cell_type": "code",
   "execution_count": 20,
   "id": "3e4b92ab",
   "metadata": {
    "extensions": {
     "jupyter_dashboards": {
      "version": 1,
      "views": {
       "grid_default": {},
       "report_default": {}
      }
     }
    }
   },
   "outputs": [],
   "source": [
    "cur = conn.cursor()\n",
    "\n",
    "cur.execute(\"\"\"SELECT FireDate FROM FireDate ORDER BY FireDateID ASC LIMIT 1;\"\"\")\n",
    "rows = cur.fetchall()\n",
    "first_fire_date = rows[0][0]\n",
    "cur.execute(\"\"\"SELECT FireDate FROM FireDate ORDER BY FireDateID DESC LIMIT 1;\"\"\")\n",
    "rows = cur.fetchall()\n",
    "last_fire_date = rows[0][0]\n",
    "\n",
    "\n",
    "from datetime import datetime\n",
    "# Do last - first to get no of days\n",
    "def days_between(d1, d2):\n",
    "    d1 = datetime.strptime(d1, \"%m-%d-%Y\")\n",
    "    d2 = datetime.strptime(d2, \"%m-%d-%Y\")\n",
    "    return abs((d2 - d1).days)\n",
    "\n",
    "total_days = days_between(first_fire_date, last_fire_date)\n",
    "#total_days"
   ]
  },
  {
   "cell_type": "code",
   "execution_count": 21,
   "id": "26b2bbf0",
   "metadata": {
    "extensions": {
     "jupyter_dashboards": {
      "version": 1,
      "views": {
       "grid_default": {},
       "report_default": {}
      }
     }
    }
   },
   "outputs": [],
   "source": [
    "#last_fire_date"
   ]
  },
  {
   "cell_type": "code",
   "execution_count": 22,
   "id": "91eb545a",
   "metadata": {
    "extensions": {
     "jupyter_dashboards": {
      "version": 1,
      "views": {
       "grid_default": {},
       "report_default": {}
      }
     }
    }
   },
   "outputs": [],
   "source": [
    "#fire_count / total_days * 100"
   ]
  },
  {
   "cell_type": "code",
   "execution_count": 23,
   "id": "d5bb6b5b",
   "metadata": {
    "extensions": {
     "jupyter_dashboards": {
      "version": 1,
      "views": {
       "grid_default": {},
       "report_default": {}
      }
     }
    }
   },
   "outputs": [],
   "source": [
    "#fire_count"
   ]
  },
  {
   "cell_type": "code",
   "execution_count": 24,
   "id": "0d13f584",
   "metadata": {},
   "outputs": [],
   "source": [
    "normalized_database_filename = 'lightning_fire_normalized.db'\n",
    "conn = create_connection(normalized_database_filename)\n",
    "sql_statement = \"\"\"select count(FireClass) as ClassACount\n",
    "                   from FireDetails\n",
    "                   where FireClass = 'A'\"\"\"\n",
    "cur = conn.cursor()\n",
    "fireA_count = pd.read_sql_query(sql_statement, conn)\n",
    "\n",
    "\n",
    "sql_statement = \"\"\"select count(FireClass) as ClassACount\n",
    "                   from FireDetails\n",
    "                   where FireClass = 'A' and DaysToExt < 30\"\"\"\n",
    "cur = conn.cursor()\n",
    "fireA_30 = pd.read_sql_query(sql_statement, conn)\n",
    "\n",
    "\n",
    "sql_statement = \"\"\"select count(FireClass) as ClassACount\n",
    "                   from FireDetails\n",
    "                   where FireClass = 'A' and DaysToExt > 30 and DaysToExt < 60\"\"\"\n",
    "cur = conn.cursor()\n",
    "fireA_60 = pd.read_sql_query(sql_statement, conn)\n",
    "\n",
    "\n",
    "sql_statement = \"\"\"select count(FireClass) as ClassACount\n",
    "                   from FireDetails\n",
    "                   where FireClass = 'A' and DaysToExt > 60\"\"\"\n",
    "cur = conn.cursor()\n",
    "fireA_60p = pd.read_sql_query(sql_statement, conn)\n",
    "\n",
    "# sql_statement = \"\"\"select count(FireClass) as ClassACount\n",
    "#                    from FireDetails\n",
    "#                    where FireClass = 'D' and DaysToExt > 90 and DaysToExt < 120\"\"\"\n",
    "# cur = conn.cursor()\n",
    "# fireD_120 = pd.read_sql_query(sql_statement, conn)\n",
    "\n",
    "# sql_statement = \"\"\"select count(FireClass) as ClassACount\n",
    "#                    from FireDetails\n",
    "#                    where FireClass = 'D' and DaysToExt > 120\"\"\"\n",
    "# cur = conn.cursor()\n",
    "# fireD_120p = pd.read_sql_query(sql_statement, conn)\n",
    "#df.set_index('Country', inplace=True)\n",
    "#bins_list = [-10, 20, 40, 50, 60, 80, 110, 140]\n",
    "#df.plot.hist(y='ClassACount', bins = bins_list, figsize=(12,12))"
   ]
  },
  {
   "cell_type": "code",
   "execution_count": 25,
   "id": "4bcb6500",
   "metadata": {
    "extensions": {
     "jupyter_dashboards": {
      "version": 1,
      "views": {
       "grid_default": {},
       "report_default": {}
      }
     }
    }
   },
   "outputs": [],
   "source": [
    "A_class = fireA_60p/fireA_count\n",
    "snd = str(A_class).split()\n",
    "A_class = float(snd[2])*100\n",
    "#A_class"
   ]
  },
  {
   "cell_type": "code",
   "execution_count": 26,
   "id": "85b3af89",
   "metadata": {
    "extensions": {
     "jupyter_dashboards": {
      "version": 1,
      "views": {
       "grid_default": {},
       "report_default": {}
      }
     }
    }
   },
   "outputs": [],
   "source": [
    "normalized_database_filename = 'lightning_fire_normalized.db'\n",
    "conn = create_connection(normalized_database_filename)\n",
    "sql_statement = \"\"\"select count(FireClass) as ClassACount\n",
    "                   from FireDetails\n",
    "                   where FireClass = 'B'\"\"\"\n",
    "cur = conn.cursor()\n",
    "fireB_count = pd.read_sql_query(sql_statement, conn)\n",
    "\n",
    "\n",
    "sql_statement = \"\"\"select count(FireClass) as ClassACount\n",
    "                   from FireDetails\n",
    "                   where FireClass = 'B' and DaysToExt < 30\"\"\"\n",
    "cur = conn.cursor()\n",
    "fireB_30 = pd.read_sql_query(sql_statement, conn)\n",
    "\n",
    "\n",
    "sql_statement = \"\"\"select count(FireClass) as ClassACount\n",
    "                   from FireDetails\n",
    "                   where FireClass = 'B' and DaysToExt > 30 and DaysToExt < 60\"\"\"\n",
    "cur = conn.cursor()\n",
    "fireB_60 = pd.read_sql_query(sql_statement, conn)\n",
    "\n",
    "\n",
    "sql_statement = \"\"\"select count(FireClass) as ClassACount\n",
    "                   from FireDetails\n",
    "                   where FireClass = 'B' and DaysToExt > 60\"\"\"\n",
    "cur = conn.cursor()\n",
    "fireB_60p = pd.read_sql_query(sql_statement, conn)\n",
    "\n",
    "# sql_statement = \"\"\"select count(FireClass) as ClassACount\n",
    "#                    from FireDetails\n",
    "#                    where FireClass = 'D' and DaysToExt > 90 and DaysToExt < 120\"\"\"\n",
    "# cur = conn.cursor()\n",
    "# fireD_120 = pd.read_sql_query(sql_statement, conn)\n",
    "\n",
    "# sql_statement = \"\"\"select count(FireClass) as ClassACount\n",
    "#                    from FireDetails\n",
    "#                    where FireClass = 'D' and DaysToExt > 120\"\"\"\n",
    "# cur = conn.cursor()\n",
    "# fireD_120p = pd.read_sql_query(sql_statement, conn)\n",
    "#df.set_index('Country', inplace=True)\n",
    "#bins_list = [-10, 20, 40, 50, 60, 80, 110, 140]\n",
    "#df.plot.hist(y='ClassACount', bins = bins_list, figsize=(12,12))"
   ]
  },
  {
   "cell_type": "code",
   "execution_count": 27,
   "id": "9b8df54a",
   "metadata": {
    "extensions": {
     "jupyter_dashboards": {
      "version": 1,
      "views": {
       "grid_default": {},
       "report_default": {}
      }
     }
    }
   },
   "outputs": [],
   "source": [
    "B_class = fireB_60p/fireB_count\n",
    "snd = str(B_class).split()\n",
    "B_class = float(snd[2])*100\n",
    "#B_class"
   ]
  },
  {
   "cell_type": "code",
   "execution_count": 28,
   "id": "05c9d1cb",
   "metadata": {
    "extensions": {
     "jupyter_dashboards": {
      "version": 1,
      "views": {
       "grid_default": {},
       "report_default": {}
      }
     }
    }
   },
   "outputs": [],
   "source": [
    "normalized_database_filename = 'lightning_fire_normalized.db'\n",
    "conn = create_connection(normalized_database_filename)\n",
    "sql_statement = \"\"\"select count(FireClass) as ClassACount\n",
    "                   from FireDetails\n",
    "                   where FireClass = 'C'\"\"\"\n",
    "cur = conn.cursor()\n",
    "fireC_count = pd.read_sql_query(sql_statement, conn)\n",
    "\n",
    "\n",
    "sql_statement = \"\"\"select count(FireClass) as ClassACount\n",
    "                   from FireDetails\n",
    "                   where FireClass = 'C' and DaysToExt < 30\"\"\"\n",
    "cur = conn.cursor()\n",
    "fireC_30 = pd.read_sql_query(sql_statement, conn)\n",
    "\n",
    "\n",
    "sql_statement = \"\"\"select count(FireClass) as ClassACount\n",
    "                   from FireDetails\n",
    "                   where FireClass = 'C' and DaysToExt > 30 and DaysToExt < 60\"\"\"\n",
    "cur = conn.cursor()\n",
    "fireC_60 = pd.read_sql_query(sql_statement, conn)\n",
    "\n",
    "\n",
    "sql_statement = \"\"\"select count(FireClass) as ClassACount\n",
    "                   from FireDetails\n",
    "                   where FireClass = 'C' and DaysToExt > 60\"\"\"\n",
    "cur = conn.cursor()\n",
    "fireC_60p = pd.read_sql_query(sql_statement, conn)\n",
    "\n",
    "# sql_statement = \"\"\"select count(FireClass) as ClassACount\n",
    "#                    from FireDetails\n",
    "#                    where FireClass = 'D' and DaysToExt > 90 and DaysToExt < 120\"\"\"\n",
    "# cur = conn.cursor()\n",
    "# fireD_120 = pd.read_sql_query(sql_statement, conn)\n",
    "\n",
    "# sql_statement = \"\"\"select count(FireClass) as ClassACount\n",
    "#                    from FireDetails\n",
    "#                    where FireClass = 'D' and DaysToExt > 120\"\"\"\n",
    "# cur = conn.cursor()\n",
    "# fireD_120p = pd.read_sql_query(sql_statement, conn)\n",
    "#df.set_index('Country', inplace=True)\n",
    "#bins_list = [-10, 20, 40, 50, 60, 80, 110, 140]\n",
    "#df.plot.hist(y='ClassACount', bins = bins_list, figsize=(12,12))"
   ]
  },
  {
   "cell_type": "code",
   "execution_count": 29,
   "id": "f843c86b",
   "metadata": {
    "extensions": {
     "jupyter_dashboards": {
      "version": 1,
      "views": {
       "grid_default": {},
       "report_default": {}
      }
     }
    }
   },
   "outputs": [],
   "source": [
    "C_class = fireC_60p/fireC_count\n",
    "snd = str(C_class).split()\n",
    "C_class = float(snd[2])*100\n",
    "#C_class"
   ]
  },
  {
   "cell_type": "code",
   "execution_count": 30,
   "id": "767b73ac",
   "metadata": {
    "extensions": {
     "jupyter_dashboards": {
      "version": 1,
      "views": {
       "grid_default": {},
       "report_default": {}
      }
     }
    }
   },
   "outputs": [],
   "source": [
    "normalized_database_filename = 'lightning_fire_normalized.db'\n",
    "conn = create_connection(normalized_database_filename)\n",
    "sql_statement = \"\"\"select count(FireClass) as ClassACount\n",
    "                   from FireDetails\n",
    "                   where FireClass = 'D'\"\"\"\n",
    "cur = conn.cursor()\n",
    "fireD_count = pd.read_sql_query(sql_statement, conn)\n",
    "\n",
    "\n",
    "sql_statement = \"\"\"select count(FireClass) as ClassACount\n",
    "                   from FireDetails\n",
    "                   where FireClass = 'D' and DaysToExt < 30\"\"\"\n",
    "cur = conn.cursor()\n",
    "fireD_30 = pd.read_sql_query(sql_statement, conn)\n",
    "\n",
    "\n",
    "sql_statement = \"\"\"select count(FireClass) as ClassACount\n",
    "                   from FireDetails\n",
    "                   where FireClass = 'D' and DaysToExt > 30 and DaysToExt < 60\"\"\"\n",
    "cur = conn.cursor()\n",
    "fireD_60 = pd.read_sql_query(sql_statement, conn)\n",
    "\n",
    "\n",
    "sql_statement = \"\"\"select count(FireClass) as ClassACount\n",
    "                   from FireDetails\n",
    "                   where FireClass = 'D' and DaysToExt > 60\"\"\"\n",
    "cur = conn.cursor()\n",
    "fireD_60p = pd.read_sql_query(sql_statement, conn)\n",
    "\n",
    "# sql_statement = \"\"\"select count(FireClass) as ClassACount\n",
    "#                    from FireDetails\n",
    "#                    where FireClass = 'D' and DaysToExt > 90 and DaysToExt < 120\"\"\"\n",
    "# cur = conn.cursor()\n",
    "# fireD_120 = pd.read_sql_query(sql_statement, conn)\n",
    "\n",
    "# sql_statement = \"\"\"select count(FireClass) as ClassACount\n",
    "#                    from FireDetails\n",
    "#                    where FireClass = 'D' and DaysToExt > 120\"\"\"\n",
    "# cur = conn.cursor()\n",
    "# fireD_120p = pd.read_sql_query(sql_statement, conn)\n",
    "#df.set_index('Country', inplace=True)\n",
    "#bins_list = [-10, 20, 40, 50, 60, 80, 110, 140]\n",
    "#df.plot.hist(y='ClassACount', bins = bins_list, figsize=(12,12))"
   ]
  },
  {
   "cell_type": "code",
   "execution_count": 31,
   "id": "18068480",
   "metadata": {
    "extensions": {
     "jupyter_dashboards": {
      "version": 1,
      "views": {
       "grid_default": {},
       "report_default": {}
      }
     }
    }
   },
   "outputs": [],
   "source": [
    "D_class = fireD_60p/fireD_count\n",
    "snd = str(D_class).split()\n",
    "D_class = float(snd[2])*100\n",
    "#D_class"
   ]
  },
  {
   "cell_type": "code",
   "execution_count": 32,
   "id": "91363942",
   "metadata": {
    "extensions": {
     "jupyter_dashboards": {
      "version": 1,
      "views": {
       "grid_default": {},
       "report_default": {}
      }
     }
    }
   },
   "outputs": [],
   "source": [
    "normalized_database_filename = 'lightning_fire_normalized.db'\n",
    "conn = create_connection(normalized_database_filename)\n",
    "sql_statement = \"\"\"select count(FireClass) as ClassACount\n",
    "                   from FireDetails\n",
    "                   where FireClass = 'E'\"\"\"\n",
    "cur = conn.cursor()\n",
    "fireE_count = pd.read_sql_query(sql_statement, conn)\n",
    "\n",
    "\n",
    "sql_statement = \"\"\"select count(FireClass) as ClassACount\n",
    "                   from FireDetails\n",
    "                   where FireClass = 'E' and DaysToExt < 30\"\"\"\n",
    "cur = conn.cursor()\n",
    "fireE_30 = pd.read_sql_query(sql_statement, conn)\n",
    "\n",
    "\n",
    "sql_statement = \"\"\"select count(FireClass) as ClassACount\n",
    "                   from FireDetails\n",
    "                   where FireClass = 'E' and DaysToExt > 30 and DaysToExt < 60\"\"\"\n",
    "cur = conn.cursor()\n",
    "fireE_60 = pd.read_sql_query(sql_statement, conn)\n",
    "\n",
    "\n",
    "sql_statement = \"\"\"select count(FireClass) as ClassACount\n",
    "                   from FireDetails\n",
    "                   where FireClass = 'E' and DaysToExt > 60\"\"\"\n",
    "cur = conn.cursor()\n",
    "fireE_60p = pd.read_sql_query(sql_statement, conn)\n",
    "\n",
    "# sql_statement = \"\"\"select count(FireClass) as ClassACount\n",
    "#                    from FireDetails\n",
    "#                    where FireClass = 'D' and DaysToExt > 90 and DaysToExt < 120\"\"\"\n",
    "# cur = conn.cursor()\n",
    "# fireD_120 = pd.read_sql_query(sql_statement, conn)\n",
    "\n",
    "# sql_statement = \"\"\"select count(FireClass) as ClassACount\n",
    "#                    from FireDetails\n",
    "#                    where FireClass = 'D' and DaysToExt > 120\"\"\"\n",
    "# cur = conn.cursor()\n",
    "# fireD_120p = pd.read_sql_query(sql_statement, conn)\n",
    "#df.set_index('Country', inplace=True)\n",
    "#bins_list = [-10, 20, 40, 50, 60, 80, 110, 140]\n",
    "#df.plot.hist(y='ClassACount', bins = bins_list, figsize=(12,12))"
   ]
  },
  {
   "cell_type": "code",
   "execution_count": 33,
   "id": "2c633d63",
   "metadata": {
    "extensions": {
     "jupyter_dashboards": {
      "version": 1,
      "views": {
       "grid_default": {},
       "report_default": {}
      }
     }
    }
   },
   "outputs": [],
   "source": [
    "E_class = fireE_60p/fireE_count\n",
    "snd = str(E_class).split()\n",
    "E_class = float(snd[2])*100\n",
    "#E_class"
   ]
  },
  {
   "cell_type": "code",
   "execution_count": 34,
   "id": "9e9ac77d",
   "metadata": {
    "extensions": {
     "jupyter_dashboards": {
      "version": 1,
      "views": {
       "grid_default": {},
       "report_default": {}
      }
     }
    }
   },
   "outputs": [
    {
     "data": {
      "image/png": "[encoded data removed]",
      "text/plain": [
       "<Figure size 432x288 with 1 Axes>"
      ]
     },
     "metadata": {},
     "output_type": "display_data"
    }
   ],
   "source": [
    "normalized_database_filename = 'lightning_fire_normalized.db'\n",
    "conn = create_connection(normalized_database_filename)\n",
    "cur = conn.cursor()\n",
    "cur.execute(\"\"\"select count(FireDateID) AS fire_count\n",
    "                   from FireDate\"\"\")\n",
    "rows = cur.fetchall()\n",
    "fire_count = rows[0][0]\n",
    "\n",
    "cur = conn.cursor()\n",
    "\n",
    "cur.execute(\"\"\"SELECT FireDate FROM FireDate ORDER BY FireDateID ASC LIMIT 1;\"\"\")\n",
    "rows = cur.fetchall()\n",
    "first_fire_date = rows[0][0]\n",
    "cur.execute(\"\"\"SELECT FireDate FROM FireDate ORDER BY FireDateID DESC LIMIT 1;\"\"\")\n",
    "rows = cur.fetchall()\n",
    "last_fire_date = rows[0][0]\n",
    "\n",
    "\n",
    "from datetime import datetime\n",
    "# Do last - first to get no of days\n",
    "def days_between(d1, d2):\n",
    "    d1 = datetime.strptime(d1, \"%m-%d-%Y\")\n",
    "    d2 = datetime.strptime(d2, \"%m-%d-%Y\")\n",
    "    return abs((d2 - d1).days)\n",
    "\n",
    "total_days = days_between(first_fire_date, last_fire_date)\n",
    "\n",
    "y = np.array([fire_count,total_days])\n",
    "mylabels = [\"Days of no fire\", \"Days that have fire reported\"]\n",
    "\n",
    "plt.pie(y, labels = mylabels, radius = 2, textprops={'fontsize': 14})\n",
    "plt.show()\n"
   ]
  },
  {
   "cell_type": "code",
   "execution_count": 35,
   "id": "e4cd4c71",
   "metadata": {
    "extensions": {
     "jupyter_dashboards": {
      "version": 1,
      "views": {
       "grid_default": {},
       "report_default": {}
      }
     }
    }
   },
   "outputs": [],
   "source": [
    "# normalized_database_filename = 'lightning_fire_normalized.db'\n",
    "# conn = create_connection(normalized_database_filename)\n",
    "# sql_statement = pd.read_sql_query(\"\"\"select DaysToExt, ContTime from FireDetails\"\"\",conn)\n",
    "# cur = conn.cursor()\n",
    "\n",
    "# #sns.histplot(data=sql_statement, x=\"DaysToExt\",bins=100, figsize=(10,10))\n",
    "# # plt.figure(figsize=(50, 60))\n",
    "# # plt.show()\n",
    "\n",
    "# bins_list = [-5,-1,0,1,5,10, 15, 20, 25, 30, 40, 50]\n",
    "# df.plot.hist(y='DaysToExt', bins = bins_list, figsize=(9,8),)\n",
    "# # # plt.title('matplotlib.pyplot.hist() function\\n\\n',\n",
    "# #           fontweight =\"bold\")\n",
    "# # plt.show()\n",
    "\n",
    "# # fig, ax = plt.subplots(figsize = (20,15))\n",
    "# # new_df = state_f.sort_values(by = 'FireSize',ascending=False)\n",
    "# # sns.barplot(x = 'State',y = 'FireSize',ax = ax,data = new_df)"
   ]
  },
  {
   "cell_type": "code",
   "execution_count": 36,
   "id": "e5ed4a3b",
   "metadata": {
    "extensions": {
     "jupyter_dashboards": {
      "version": 1,
      "views": {
       "grid_default": {},
       "report_default": {}
      }
     }
    }
   },
   "outputs": [
    {
     "data": {
      "image/png": "[encoded data removed]",
      "text/plain": [
       "<Figure size 720x504 with 1 Axes>"
      ]
     },
     "metadata": {
      "needs_background": "light"
     },
     "output_type": "display_data"
    },
    {
     "data": {
      "image/png": "[encoded data removed]",
      "text/plain": [
       "<Figure size 432x288 with 1 Axes>"
      ]
     },
     "metadata": {
      "needs_background": "light"
     },
     "output_type": "display_data"
    },
    {
     "data": {
      "image/png": "[encoded data removed]",
      "text/plain": [
       "<Figure size 432x288 with 1 Axes>"
      ]
     },
     "metadata": {
      "needs_background": "light"
     },
     "output_type": "display_data"
    },
    {
     "data": {
      "image/png": "[encoded data removed]",
      "text/plain": [
       "<Figure size 432x288 with 1 Axes>"
      ]
     },
     "metadata": {
      "needs_background": "light"
     },
     "output_type": "display_data"
    }
   ],
   "source": [
    "############ Boxplot of relevent columns ############\n",
    "normalized_database_filename = 'lightning_fire_normalized.db'\n",
    "conn = create_connection(normalized_database_filename)\n",
    "state = pd.read_sql_query(\"\"\"SELECT * FROM FireDetails\"\"\", conn)\n",
    "fig = plt.figure(figsize =(10, 7))\n",
    "cont_train = state[['DaysToExt','FireSize','DiscoveryTime','ContTime']]\n",
    "for i in cont_train:\n",
    "    sns.boxplot(cont_train[i])\n",
    "    plt.show()"
   ]
  },
  {
   "cell_type": "code",
   "execution_count": 37,
   "id": "b5e2ea37",
   "metadata": {
    "extensions": {
     "jupyter_dashboards": {
      "version": 1,
      "views": {
       "grid_default": {},
       "report_default": {}
      }
     }
    }
   },
   "outputs": [
    {
     "data": {
      "image/png": "[encoded data removed]",
      "text/plain": [
       "<Figure size 432x288 with 1 Axes>"
      ]
     },
     "metadata": {
      "needs_background": "light"
     },
     "output_type": "display_data"
    },
    {
     "data": {
      "image/png": "[encoded data removed]",
      "text/plain": [
       "<Figure size 432x288 with 1 Axes>"
      ]
     },
     "metadata": {
      "needs_background": "light"
     },
     "output_type": "display_data"
    },
    {
     "data": {
      "image/png": "[encoded data removed]",
      "text/plain": [
       "<Figure size 432x288 with 1 Axes>"
      ]
     },
     "metadata": {
      "needs_background": "light"
     },
     "output_type": "display_data"
    },
    {
     "data": {
      "image/png": "[encoded data removed]",
      "text/plain": [
       "<Figure size 432x288 with 1 Axes>"
      ]
     },
     "metadata": {
      "needs_background": "light"
     },
     "output_type": "display_data"
    }
   ],
   "source": [
    "################ Removing outliers ###################\n",
    "def remove_outlier(col):\n",
    "    sorted(col)\n",
    "    Q1,Q3=np.percentile(col,[25,75])\n",
    "    IQR=Q3-Q1\n",
    "    lower_range= Q1-(1.5 * IQR)\n",
    "    upper_range= Q3+(1.5 * IQR)\n",
    "    return lower_range, upper_range\n",
    "for column in cont_train.columns:\n",
    "    lr,ur=remove_outlier(cont_train[column])\n",
    "    cont_train[column]=np.where(cont_train[column]>ur,ur,cont_train[column])\n",
    "    cont_train[column]=np.where(cont_train[column]<lr,lr,cont_train[column])\n",
    "for i in cont_train:\n",
    "    sns.boxplot(cont_train[i])\n",
    "    plt.show()\n"
   ]
  },
  {
   "cell_type": "code",
   "execution_count": 38,
   "id": "c3b98898",
   "metadata": {
    "extensions": {
     "jupyter_dashboards": {
      "version": 1,
      "views": {
       "grid_default": {},
       "report_default": {}
      }
     }
    }
   },
   "outputs": [
    {
     "data": {
      "text/plain": [
       "<AxesSubplot:xlabel='State', ylabel='FireSize'>"
      ]
     },
     "execution_count": 38,
     "metadata": {},
     "output_type": "execute_result"
    },
    {
     "data": {
      "image/png": "[encoded data removed]",
      "text/plain": [
       "<Figure size 1440x1080 with 1 Axes>"
      ]
     },
     "metadata": {
      "needs_background": "light"
     },
     "output_type": "display_data"
    }
   ],
   "source": [
    "###########Barplot for Highest frequency of fire by state############\n",
    "normalized_database_filename = 'lightning_fire_normalized.db'\n",
    "conn = create_connection(normalized_database_filename)\n",
    "state_f = pd.read_sql_query(\"\"\"SELECT a.State, a.fs FireSize\n",
    "from \n",
    "((select StateID, max(FireSize) as fs\n",
    "from FireDetails \n",
    "group by StateID ) x\n",
    "INNER join \n",
    "(SELECT State,StateID \n",
    "FROM FireState ) y\n",
    "on x.StateID= y.StateID) a\"\"\", conn)\n",
    "\n",
    "# fig = plt.figure(figsize =(10, 7))\n",
    "cur = conn.cursor()\n",
    "fig, ax = plt.subplots(figsize = (20,15))\n",
    "new_df = state_f.sort_values(by = 'FireSize',ascending=False)\n",
    "sns.barplot(x = 'State',y = 'FireSize',ax = ax,data = new_df)"
   ]
  },
  {
   "cell_type": "code",
   "execution_count": 39,
   "id": "d43be947",
   "metadata": {
    "extensions": {
     "jupyter_dashboards": {
      "version": 1,
      "views": {
       "grid_default": {},
       "report_default": {}
      }
     }
    }
   },
   "outputs": [
    {
     "data": {
      "image/png": "[encoded data removed]",
      "text/plain": [
       "<Figure size 576x576 with 1 Axes>"
      ]
     },
     "metadata": {
      "needs_background": "light"
     },
     "output_type": "display_data"
    }
   ],
   "source": [
    "###########Barplot for frequency A B C D E F G ############\n",
    "normalized_database_filename = 'lightning_fire_normalized.db'\n",
    "conn = create_connection(normalized_database_filename)\n",
    "fireclass_f = pd.read_sql_query(\"\"\"SELECT FireClass, count(FireClass) as FireClass_Count \n",
    "from FireDetails\n",
    "group by FireClass\"\"\", conn)\n",
    "\n",
    "# fig = plt.figure(figsize =(10, 7))\n",
    "cur = conn.cursor()\n",
    "# fig, ax = plt.subplots(figsize = (20,15))\n",
    "new_df = fireclass_f.sort_values(by = 'FireClass_Count',ascending=False)\n",
    "# sns.barplot(x = 'FireClass',y = 'FireClass_Count',ax = ax,data = new_df)\n",
    "plt.figure(figsize=(8, 8))\n",
    " \n",
    "# Defining the values for x-axis, y-axis\n",
    "plots = sns.barplot(x=\"FireClass\", y=\"FireClass_Count\", data=new_df)\n",
    " \n",
    "# Iterrating over the bars one-by-one\n",
    "for bar in plots.patches:\n",
    "    plots.annotate(format(bar.get_height()),\n",
    "                   (bar.get_x() + bar.get_width() / 2,\n",
    "                    bar.get_height()), ha='center', va='center',\n",
    "                   size=10, xytext=(0, 8),\n",
    "                   textcoords='offset points')\n",
    " \n",
    "# Setting the label for x-axis\n",
    "plt.xlabel(\"FireSizeClass\", size=14)\n",
    " \n",
    "# Setting the label for y-axis\n",
    "plt.ylabel(\"FireSizeClass_Count\", size=14)\n",
    " \n",
    "# Finally showing the plot\n",
    "plt.show()"
   ]
  },
  {
   "cell_type": "code",
   "execution_count": 40,
   "id": "a91ff6c8",
   "metadata": {
    "extensions": {
     "jupyter_dashboards": {
      "version": 1,
      "views": {
       "grid_default": {},
       "report_default": {}
      }
     }
    }
   },
   "outputs": [
    {
     "data": {
      "text/html": [
       "<div style=\"width:100%;\"><div style=\"position:relative;width:100%;height:0;padding-bottom:60%;\"><span style=\"color:#565656\">Make this Notebook Trusted to load map: File -> Trust Notebook</span><iframe src=\"about:blank\" style=\"position:absolute;width:100%;height:100%;left:0;top:0;border:none !important;\" data-html=%3C%21DOCTYPE%20html%3E%0A%3Chead%3E%20%20%20%20%0A%20%20%20%20%3Cmeta%20http-equiv%3D%22content-type%22%20content%3D%22text/html%3B%20charset%3DUTF-8%22%20/%3E%0A%20%20%20%20%0A%20%20%20%20%20%20%20%20%3Cscript%3E%0A%20%20%20%20%20%20%20%20%20%20%20%20L_NO_TOUCH%20%3D%20false%3B%0A%20%20%20%20%20%20%20%20%20%20%20%20L_DISABLE_3D%20%3D%20false%3B%0A%20%20%20%20%20%20%20%20%3C/script%3E%0A%20%20%20%20%0A%20%20%20%20%3Cstyle%3Ehtml%2C%20body%20%7Bwidth%3A%20100%25%3Bheight%3A%20100%25%3Bmargin%3A%200%3Bpadding%3A%200%3B%7D%3C/style%3E%0A%20%20%20%20%3Cstyle%3E%23map%20%7Bposition%3Aabsolute%3Btop%3A0%3Bbottom%3A0%3Bright%3A0%3Bleft%3A0%3B%7D%3C/style%3E%0A%20%20%20%20%3Cscript%20src%3D%22https%3A//cdn.jsdelivr.net/npm/leaflet%401.6.0/dist/leaflet.js%22%3E%3C/script%3E%0A%20%20%20%20%3Cscript%20src%3D%22https%3A//code.jquery.com/jquery-1.12.4.min.js%22%3E%3C/script%3E%0A%20%20%20%20%3Cscript%20src%3D%22https%3A//maxcdn.bootstrapcdn.com/bootstrap/3.2.0/js/bootstrap.min.js%22%3E%3C/script%3E%0A%20%20%20%20%3Cscript%20src%3D%22https%3A//cdnjs.cloudflare.com/ajax/libs/Leaflet.awesome-markers/2.0.2/leaflet.awesome-markers.js%22%3E%3C/script%3E%0A%20%20%20%20%3Clink%20rel%3D%22stylesheet%22%20href%3D%22https%3A//cdn.jsdelivr.net/npm/leaflet%401.6.0/dist/leaflet.css%22/%3E%0A%20%20%20%20%3Clink%20rel%3D%22stylesheet%22%20href%3D%22https%3A//maxcdn.bootstrapcdn.com/bootstrap/3.2.0/css/bootstrap.min.css%22/%3E%0A%20%20%20%20%3Clink%20rel%3D%22stylesheet%22%20href%3D%22https%3A//maxcdn.bootstrapcdn.com/bootstrap/3.2.0/css/bootstrap-theme.min.css%22/%3E%0A%20%20%20%20%3Clink%20rel%3D%22stylesheet%22%20href%3D%22https%3A//maxcdn.bootstrapcdn.com/font-awesome/4.6.3/css/font-awesome.min.css%22/%3E%0A%20%20%20%20%3Clink%20rel%3D%22stylesheet%22%20href%3D%22https%3A//cdnjs.cloudflare.com/ajax/libs/Leaflet.awesome-markers/2.0.2/leaflet.awesome-markers.css%22/%3E%0A%20%20%20%20%3Clink%20rel%3D%22stylesheet%22%20href%3D%22https%3A//cdn.jsdelivr.net/gh/python-visualization/folium/folium/templates/leaflet.awesome.rotate.min.css%22/%3E%0A%20%20%20%20%0A%20%20%20%20%20%20%20%20%20%20%20%20%3Cmeta%20name%3D%22viewport%22%20content%3D%22width%3Ddevice-width%2C%0A%20%20%20%20%20%20%20%20%20%20%20%20%20%20%20%20initial-scale%3D1.0%2C%20maximum-scale%3D1.0%2C%20user-scalable%3Dno%22%20/%3E%0A%20%20%20%20%20%20%20%20%20%20%20%20%3Cstyle%3E%0A%20%20%20%20%20%20%20%20%20%20%20%20%20%20%20%20%23map_06e668d7c45a4f309abbe53af7dca50a%20%7B%0A%20%20%20%20%20%20%20%20%20%20%20%20%20%20%20%20%20%20%20%20position%3A%20relative%3B%0A%20%20%20%20%20%20%20%20%20%20%20%20%20%20%20%20%20%20%20%20width%3A%20100.0%25%3B%0A%20%20%20%20%20%20%20%20%20%20%20%20%20%20%20%20%20%20%20%20height%3A%20100.0%25%3B%0A%20%20%20%20%20%20%20%20%20%20%20%20%20%20%20%20%20%20%20%20left%3A%200.0%25%3B%0A%20%20%20%20%20%20%20%20%20%20%20%20%20%20%20%20%20%20%20%20top%3A%200.0%25%3B%0A%20%20%20%20%20%20%20%20%20%20%20%20%20%20%20%20%7D%0A%20%20%20%20%20%20%20%20%20%20%20%20%3C/style%3E%0A%20%20%20%20%20%20%20%20%0A%20%20%20%20%3Cscript%20src%3D%22https%3A//cdn.jsdelivr.net/gh/python-visualization/folium%40master/folium/templates/leaflet_heat.min.js%22%3E%3C/script%3E%0A%3C/head%3E%0A%3Cbody%3E%20%20%20%20%0A%20%20%20%20%0A%20%20%20%20%20%20%20%20%20%20%20%20%3Cdiv%20class%3D%22folium-map%22%20id%3D%22map_06e668d7c45a4f309abbe53af7dca50a%22%20%3E%3C/div%3E%0A%20%20%20%20%20%20%20%20%0A%3C/body%3E%0A%3Cscript%3E%20%20%20%20%0A%20%20%20%20%0A%20%20%20%20%20%20%20%20%20%20%20%20var%20map_06e668d7c45a4f309abbe53af7dca50a%20%3D%20L.map%28%0A%20%20%20%20%20%20%20%20%20%20%20%20%20%20%20%20%22map_06e668d7c45a4f309abbe53af7dca50a%22%2C%0A%20%20%20%20%20%20%20%20%20%20%20%20%20%20%20%20%7B%0A%20%20%20%20%20%20%20%20%20%20%20%20%20%20%20%20%20%20%20%20center%3A%20%5B57.0%2C%20-138.0%5D%2C%0A%20%20%20%20%20%20%20%20%20%20%20%20%20%20%20%20%20%20%20%20crs%3A%20L.CRS.EPSG3857%2C%0A%20%20%20%20%20%20%20%20%20%20%20%20%20%20%20%20%20%20%20%20zoom%3A%203.4%2C%0A%20%20%20%20%20%20%20%20%20%20%20%20%20%20%20%20%20%20%20%20zoomControl%3A%20true%2C%0A%20%20%20%20%20%20%20%20%20%20%20%20%20%20%20%20%20%20%20%20preferCanvas%3A%20false%2C%0A%20%20%20%20%20%20%20%20%20%20%20%20%20%20%20%20%7D%0A%20%20%20%20%20%20%20%20%20%20%20%20%29%3B%0A%0A%20%20%20%20%20%20%20%20%20%20%20%20%0A%0A%20%20%20%20%20%20%20%20%0A%20%20%20%20%0A%20%20%20%20%20%20%20%20%20%20%20%20var%20tile_layer_af78c4474dbf43d1bbbcc9fbb66e9325%20%3D%20L.tileLayer%28%0A%20%20%20%20%20%20%20%20%20%20%20%20%20%20%20%20%22https%3A//%7Bs%7D.tile.openstreetmap.org/%7Bz%7D/%7Bx%7D/%7By%7D.png%22%2C%0A%20%20%20%20%20%20%20%20%20%20%20%20%20%20%20%20%7B%22attribution%22%3A%20%22Data%20by%20%5Cu0026copy%3B%20%5Cu003ca%20href%3D%5C%22http%3A//openstreetmap.org%5C%22%5Cu003eOpenStreetMap%5Cu003c/a%5Cu003e%2C%20under%20%5Cu003ca%20href%3D%5C%22http%3A//www.openstreetmap.org/copyright%5C%22%5Cu003eODbL%5Cu003c/a%5Cu003e.%22%2C%20%22detectRetina%22%3A%20false%2C%20%22maxNativeZoom%22%3A%2018%2C%20%22maxZoom%22%3A%2018%2C%20%22minZoom%22%3A%200%2C%20%22noWrap%22%3A%20false%2C%20%22opacity%22%3A%201%2C%20%22subdomains%22%3A%20%22abc%22%2C%20%22tms%22%3A%20false%7D%0A%20%20%20%20%20%20%20%20%20%20%20%20%29.addTo%28map_06e668d7c45a4f309abbe53af7dca50a%29%3B%0A%20%20%20%20%20%20%20%20%0A%20%20%20%20%0A%20%20%20%20%20%20%20%20%20%20%20%20var%20heat_map_0ccf0f2128144b859726855d14fa05cc%20%3D%20L.heatLayer%28%0A%20%20%20%20%20%20%20%20%20%20%20%20%20%20%20%20%5B%5B61.9827%2C%20-157.0857%5D%2C%20%5B42.391894%2C%20-117.893687%5D%2C%20%5B65.2663%2C%20-146.8858%5D%2C%20%5B64.7467%2C%20-149.5047%5D%2C%20%5B42.03888889%2C%20-123.91166667%5D%2C%20%5B66.3029%2C%20-149.8843%5D%2C%20%5B63.8163%2C%20-143.819%5D%2C%20%5B41.9733%2C%20-118.365%5D%2C%20%5B65.7467%2C%20-152.2315%5D%2C%20%5B67.2071%2C%20-146.3702%5D%2C%20%5B42.0369%2C%20-115.1089%5D%2C%20%5B63.566%2C%20-157.2024%5D%2C%20%5B38.5756%2C%20-112.9731%5D%2C%20%5B66.2236%2C%20-143.2572%5D%2C%20%5B66.9597%2C%20-145.346%5D%5D%2C%0A%20%20%20%20%20%20%20%20%20%20%20%20%20%20%20%20%7B%22blur%22%3A%201%2C%20%22maxZoom%22%3A%201%2C%20%22minOpacity%22%3A%200.2%2C%20%22radius%22%3A%2017%7D%0A%20%20%20%20%20%20%20%20%20%20%20%20%29.addTo%28map_06e668d7c45a4f309abbe53af7dca50a%29%3B%0A%20%20%20%20%20%20%20%20%0A%3C/script%3E onload=\"this.contentDocument.open();this.contentDocument.write(    decodeURIComponent(this.getAttribute('data-html')));this.contentDocument.close();\" allowfullscreen webkitallowfullscreen mozallowfullscreen></iframe></div></div>"
      ],
      "text/plain": [
       "<folium.folium.Map at 0x7f9558be4340>"
      ]
     },
     "execution_count": 40,
     "metadata": {},
     "output_type": "execute_result"
    }
   ],
   "source": [
    "########### Hotspot for frequency ############\n",
    "normalized_database_filename = 'lightning_fire_normalized.db'\n",
    "conn = create_connection(normalized_database_filename)\n",
    "hotspot_f = pd.read_sql_query(\"\"\"SELECT  FireSize, Longitude, Lattitude\n",
    "from FireDetails \n",
    "order by FireSize DESC \n",
    "LIMIT 15\"\"\", conn)\n",
    "cur = conn.cursor()\n",
    "data_map = Map(location=[57, -138], zoom_start=3.4, )\n",
    "hm_wide = HeatMap(\n",
    "    list(zip(hotspot_f.Lattitude.values, hotspot_f.Longitude.values)),\n",
    "    min_opacity=0.2,\n",
    "    radius=17, \n",
    "    blur=1,\n",
    "    max_zoom=1,\n",
    ")\n",
    "data_map.add_child(hm_wide)"
   ]
  },
  {
   "cell_type": "code",
   "execution_count": 41,
   "id": "fa827142",
   "metadata": {
    "extensions": {
     "jupyter_dashboards": {
      "version": 1,
      "views": {
       "grid_default": {},
       "report_default": {}
      }
     }
    }
   },
   "outputs": [
    {
     "data": {
      "image/png": "[encoded data removed]",
      "text/plain": [
       "<Figure size 1080x864 with 1 Axes>"
      ]
     },
     "metadata": {
      "needs_background": "light"
     },
     "output_type": "display_data"
    }
   ],
   "source": [
    "########### Count of fire across years ############\n",
    "normalized_database_filename = 'lightning_fire_normalized.db'\n",
    "conn = create_connection(normalized_database_filename)\n",
    "fire_y = pd.read_sql_query(\"\"\"\n",
    "SELECT  Fire_Year, count(Fire_Year) as Fire_Year_count\n",
    "FROM \n",
    "(SELECT fd2.FireSize, fd2.DaysToExt, fd2.FireClass, fd1.Fire_Year FROM\n",
    "((SELECT  FireDateID, substr(FireDate, 7, 10) as Fire_Year\n",
    "From FireDate) fd1\n",
    "JOIN \n",
    "(SELECT * from FireDetails) fd2\n",
    "on fd1.FireDateID = fd2.FireDateID) fd3)fd4\n",
    "group by Fire_Year\"\"\", conn)\n",
    "\n",
    "new_df = fire_y.sort_values(by = 'Fire_Year',ascending=True)\n",
    "plt.figure(figsize=(15, 12))\n",
    " \n",
    "# Defining the values for x-axis, y-axis\n",
    "def colors_from_values(values, palette_name):\n",
    "    # normalize the values to range [0, 1]\n",
    "    normalized = (values - min(values)) / (max(values) - min(values))\n",
    "    # convert to indices\n",
    "    indices = np.round(normalized * (len(values) - 1)).astype(np.int32)\n",
    "    # use the indices to get the colors\n",
    "    palette = sns.color_palette(palette_name, len(values))\n",
    "    return np.array(palette).take(indices, axis=0)\n",
    "\n",
    "# sns.set(style=\"whitegrid\", color_codes=True)\n",
    "plots = sns.lineplot(x=\"Fire_Year\", y=\"Fire_Year_count\", data=new_df)\n",
    "plots = sns.barplot(x=\"Fire_Year\", y=\"Fire_Year_count\", data=new_df, palette=colors_from_values(new_df.Fire_Year_count.values, \"YlOrRd\"))\n",
    "\n",
    "\n",
    "# Iterrating over the bars one-by-one\n",
    "for bar in plots.patches:\n",
    "    plots.annotate(format(bar.get_height()),\n",
    "                   (bar.get_x() + bar.get_width() / 2,\n",
    "                    bar.get_height()), ha='center', va='center',\n",
    "                   size=10, xytext=(0, 8),\n",
    "                   textcoords='offset points')\n",
    " \n",
    "# Setting the label for x-axis\n",
    "plt.xlabel(\"Fire_Year\", size=14)\n",
    " \n",
    "# Setting the label for y-axis\n",
    "plt.ylabel(\"Fire_Year_count\", size=14)\n",
    " \n",
    "# Finally showing the plot\n",
    "plt.show()"
   ]
  },
  {
   "cell_type": "code",
   "execution_count": 42,
   "id": "4b6d1472",
   "metadata": {
    "extensions": {
     "jupyter_dashboards": {
      "version": 1,
      "views": {
       "grid_default": {},
       "report_default": {}
      }
     }
    }
   },
   "outputs": [
    {
     "data": {
      "image/png": "[encoded data removed]",
      "text/plain": [
       "<Figure size 1080x864 with 1 Axes>"
      ]
     },
     "metadata": {
      "needs_background": "light"
     },
     "output_type": "display_data"
    }
   ],
   "source": [
    "########### DaystoExt of FireClass E,F,G over the years ############\n",
    "normalized_database_filename = 'lightning_fire_normalized.db'\n",
    "conn = create_connection(normalized_database_filename)\n",
    "fire_y = pd.read_sql_query(\"\"\"\n",
    "SELECT   FireClass , Fire_Year, Avg(DaysToExt ) as Average_DaysToExt\n",
    "from \n",
    "(SELECT fd2.FireSize, fd2.DaysToExt, fd2.FireClass, fd1.Fire_Year FROM\n",
    "((SELECT  FireDateID, substr(FireDate, 7, 10) as Fire_Year\n",
    "From FireDate) fd1\n",
    "JOIN \n",
    "(SELECT * from FireDetails where FireClass IN (\"E\" , \"G\" , \"F\")) fd2\n",
    "on fd1.FireDateID = fd2.FireDateID) fd3)\n",
    "group by 1, 2\"\"\", conn)\n",
    "\n",
    "new_df = fire_y.sort_values(by = 'Fire_Year',ascending=True)\n",
    "plt.figure(figsize=(15, 12))\n",
    "sns.lineplot(data=new_df, x=\"Fire_Year\", y=\"Average_DaysToExt\", hue=\"FireClass\")\n",
    "plt.show()"
   ]
  },
  {
   "cell_type": "code",
   "execution_count": null,
   "id": "5a6bf19a",
   "metadata": {},
   "outputs": [],
   "source": []
  }
 ],
 "metadata": {
  "extensions": {
   "jupyter_dashboards": {
    "activeView": "grid_default",
    "version": 1,
    "views": {
     "grid_default": {
      "cellMargin": 10,
      "defaultCellHeight": 20,
      "maxColumns": 12,
      "name": "grid",
      "type": "grid"
     },
     "report_default": {
      "name": "report",
      "type": "report"
     }
    }
   }
  },
  "kernelspec": {
   "display_name": "Python 3",
   "language": "python",
   "name": "python3"
  },
  "language_info": {
   "codemirror_mode": {
    "name": "ipython",
    "version": 3
   },
   "file_extension": ".py",
   "mimetype": "text/x-python",
   "name": "python",
   "nbconvert_exporter": "python",
   "pygments_lexer": "ipython3",
   "version": "3.8.8"
  }
 },
 "nbformat": 4,
 "nbformat_minor": 5
}
